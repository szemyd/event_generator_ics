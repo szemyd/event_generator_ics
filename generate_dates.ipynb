{
 "metadata": {
  "language_info": {
   "codemirror_mode": {
    "name": "ipython",
    "version": 3
   },
   "file_extension": ".py",
   "mimetype": "text/x-python",
   "name": "python",
   "nbconvert_exporter": "python",
   "pygments_lexer": "ipython3",
   "version": "3.8.2-final"
  },
  "orig_nbformat": 2,
  "kernelspec": {
   "name": "python3",
   "display_name": "Python 3.8.2 32-bit",
   "metadata": {
    "interpreter": {
     "hash": "3352614b04f6a771ec3a392566a3763a34cdc96a177f762027aa589f02ec5f67"
    }
   }
  }
 },
 "nbformat": 4,
 "nbformat_minor": 2,
 "cells": [
  {
   "cell_type": "code",
   "execution_count": 1,
   "metadata": {},
   "outputs": [],
   "source": [
    "from ics import Calendar, Event\n",
    "import datetime\n",
    "import random\n",
    "import numpy as np"
   ]
  },
  {
   "cell_type": "code",
   "execution_count": 2,
   "metadata": {},
   "outputs": [],
   "source": [
    "def save_to_ics(events):\n",
    "    with open('my.ics', 'w') as my_file:\n",
    "        for event in events:\n",
    "            my_file.writelines(event)\n",
    "            # my_file.write(\"\\n\")"
   ]
  },
  {
   "cell_type": "code",
   "execution_count": 3,
   "metadata": {},
   "outputs": [],
   "source": [
    "def create_event(date, duration_in_min, name, c = Calendar()):\n",
    "    e = Event()\n",
    "    # a = alarm.base.BaseAlarm(trigger=datetime.timedelta(minutes=30))\n",
    "    e.name = name\n",
    "    e.begin = date\n",
    "    e.end = date + datetime.timedelta(minutes=duration_in_min)\n",
    "    # e.alarm = a\n",
    "    c.events.add(e)\n",
    "    c.events\n",
    "\n",
    "    return c"
   ]
  },
  {
   "cell_type": "code",
   "execution_count": 4,
   "metadata": {
    "tags": []
   },
   "outputs": [],
   "source": [
    "def generate_random_dates(start_date, end_date, dates_per_year = 0, all_event_number = 1):\n",
    "    time_between_dates = end_date - start_date\n",
    "    days_between_dates = time_between_dates.days\n",
    "\n",
    "    year_between_dates = days_between_dates/365.25\n",
    "    number_of_events = year_between_dates * dates_per_year\n",
    "\n",
    "    deltadates = np.array([])\n",
    "    if year_between_dates<1 or all_event_number>number_of_events:\n",
    "        deltadates = np.random.randint(low=0, high=days_between_dates, size=int(all_event_number))\n",
    "    else:\n",
    "        deltadates = np.random.randint(low=0, high=days_between_dates, size=int(number_of_events))\n",
    "    \n",
    "    deltadates.sort()\n",
    "\n",
    "    new_dates = [start_date + datetime.timedelta(days=x.item()) for x in deltadates]\n",
    "\n",
    "    return new_dates\n",
    "\n",
    "\n"
   ]
  },
  {
   "cell_type": "code",
   "execution_count": 5,
   "metadata": {},
   "outputs": [],
   "source": [
    "## PARAMETERS ##\n",
    "dates_per_year = 14\n",
    "\n",
    "duration_per_event = 30\n",
    "\n",
    "start_date = datetime.datetime(2020, 3, 8, hour=10)\n",
    "\n",
    "end_date = datetime.datetime(2025, 3, 8)\n",
    "\n",
    "name = 'B Vir'\n",
    "c = Calendar()\n",
    "\n",
    "## GENERATE EVENTS & FILE ##\n",
    "random_dates = generate_random_dates(start_date, end_date, dates_per_year = dates_per_year, all_event_number=1)\n",
    "events = [create_event(date, duration_per_event, name, c) for date in random_dates]\n",
    "save_to_ics(events)\n"
   ]
  },
  {
   "cell_type": "code",
   "execution_count": null,
   "metadata": {},
   "outputs": [],
   "source": []
  },
  {
   "cell_type": "code",
   "execution_count": null,
   "metadata": {},
   "outputs": [],
   "source": []
  }
 ]
}